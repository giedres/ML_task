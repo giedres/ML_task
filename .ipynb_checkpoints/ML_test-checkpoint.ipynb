{
 "cells": [
  {
   "cell_type": "code",
   "execution_count": 1,
   "metadata": {
    "collapsed": true
   },
   "outputs": [],
   "source": [
    "import numpy as np\n",
    "import pandas as pd\n",
    "pd.set_option('display.width', 500)\n",
    "pd.set_option('display.max_columns', 100)\n",
    "pd.set_option('display.notebook_repr_html', True)"
   ]
  },
  {
   "cell_type": "code",
   "execution_count": 2,
   "metadata": {
    "collapsed": false
   },
   "outputs": [
    {
     "data": {
      "text/plain": [
       "(39998, 299)"
      ]
     },
     "execution_count": 2,
     "metadata": {},
     "output_type": "execute_result"
    }
   ],
   "source": [
    "training = pd.read_csv(\"training_set.csv\")\n",
    "\n",
    "training['ANSWER'] = training.ANSWER.str.replace(',','.')\n",
    "training['ANSWER'] = training.ANSWER.astype(float)\n",
    "trainingY = training['ANSWER']\n",
    "\n",
    "training['FEATURES'] = training.FEATURES.str.replace(',','.')\n",
    "trainingX = training['FEATURES']\n",
    "trainingX = trainingX.apply(lambda x: pd.Series(x.split(' ')))\n",
    "trainingX = trainingX.astype(float)\n",
    "\n",
    "from sklearn.preprocessing import Imputer\n",
    "imputer = Imputer()\n",
    "x_imputed = imputer.fit_transform(trainingX)\n",
    "x_imputed.shape"
   ]
  },
  {
   "cell_type": "code",
   "execution_count": 22,
   "metadata": {
    "collapsed": false
   },
   "outputs": [
    {
     "data": {
      "text/plain": [
       "(39998, 299)"
      ]
     },
     "execution_count": 22,
     "metadata": {},
     "output_type": "execute_result"
    }
   ],
   "source": [
    "prediction = pd.read_csv(\"predict.csv\")\n",
    "\n",
    "prediction['FEATURES'] = prediction.FEATURES.str.replace(',','.')\n",
    "predictionX = training['FEATURES']\n",
    "predictionX = predictionX.apply(lambda x: pd.Series(x.split(' ')))\n",
    "predictionX = predictionX.astype(float)\n",
    "\n",
    "newx_imputed = imputer.fit_transform(predictionX)\n",
    "\n",
    "newx_imputed.shape"
   ]
  },
  {
   "cell_type": "code",
   "execution_count": 4,
   "metadata": {
    "collapsed": false
   },
   "outputs": [
    {
     "data": {
      "text/plain": [
       "0.020018337661769525"
      ]
     },
     "execution_count": 4,
     "metadata": {},
     "output_type": "execute_result"
    }
   ],
   "source": [
    "#linear regression\n",
    "from sklearn import linear_model\n",
    "linear = linear_model.LinearRegression()\n",
    "linear.fit(x_imputed, trainingY)\n",
    "linear.score(x_imputed, trainingY)"
   ]
  },
  {
   "cell_type": "code",
   "execution_count": 5,
   "metadata": {
    "collapsed": false
   },
   "outputs": [
    {
     "name": "stdout",
     "output_type": "stream",
     "text": [
      "Coefficient: \n",
      " [ -4.41597293e-02   1.91075706e-02  -2.72407409e-02  -2.75061057e-02\n",
      "  -2.62506733e-02   1.17223187e-02   1.95553191e-02   2.50453795e-02\n",
      "   2.65182685e-02   4.08495593e-02   3.06283448e-02   4.89596914e-02\n",
      "   4.14187205e-02   1.81777085e-02   1.17620887e-02   9.47264946e-03\n",
      "   1.10958769e-02  -1.37721036e-03   6.54573236e-03  -3.70253855e-03\n",
      "  -7.27712034e-03  -1.29268320e-03  -6.73686637e-03   2.12269128e-03\n",
      "  -1.98469746e-02  -5.18973039e-03  -2.99677264e-03  -3.15175878e-03\n",
      "  -3.34513920e-03  -4.10858691e-03  -6.83920538e-03  -4.71081737e-03\n",
      "  -1.17319060e-02  -1.59973183e-02  -1.34674580e-02  -7.01220579e-03\n",
      "  -1.41281593e-02  -1.07513380e-02  -1.10769936e-02  -8.37350490e-03\n",
      "  -2.19522284e-02  -1.27691517e-02  -1.01538993e-02  -8.23754009e-03\n",
      "  -4.75372263e-03  -1.23083453e-02  -9.29491002e-03   4.41203191e-03\n",
      "  -2.96906083e-04   3.85539400e-03   1.54643637e-04  -1.15721380e-02\n",
      "  -5.51177649e-03  -1.37974118e-03  -1.84228012e-04   2.96739085e-03\n",
      "   8.03345814e-03   1.75515668e-03   3.65422675e-03   5.68487459e-03\n",
      "  -1.10951848e-02  -9.47479112e-03  -6.17572537e-03  -1.43373180e-03\n",
      "   1.44262954e-03  -1.63256840e-02  -5.65557395e-03  -8.15471791e-03\n",
      "  -3.82609528e-04  -1.79085323e-03  -3.21201995e-03   2.22722273e-03\n",
      "  -1.24676832e-02  -1.85699255e-02  -8.37971850e-03  -4.11047778e-03\n",
      "  -1.85760972e-02   3.28580120e-03  -2.33251473e-02  -3.58108600e-03\n",
      "  -1.59776659e-03  -1.35777546e-02  -9.84129769e-03  -7.21752492e-03\n",
      "  -1.36187045e-02  -1.24809713e-02  -2.08192631e-02  -9.98426729e-03\n",
      "   1.87598739e-02  -1.26305267e-03   5.52551671e-03  -1.04305050e-02\n",
      "  -2.77535063e-02   1.39041649e-02  -2.67494586e-02  -1.43693868e-02\n",
      "  -1.07048284e-02  -8.23432150e-03  -2.67959332e-02  -6.38078902e-03\n",
      "  -2.26161957e-02   6.97685543e-03   4.47505374e-03   4.97668297e-03\n",
      "  -5.26014543e-03  -1.74825912e-03  -1.48094367e-02  -4.52224574e-03\n",
      "   1.15801135e-02  -6.00355580e-03  -1.47442214e-02   4.83897101e-03\n",
      "  -8.02910288e-03   7.25820318e-03  -9.33374953e-03   1.47104944e-02\n",
      "  -3.36849716e-03  -1.69732785e-02  -8.20682860e-03  -2.26414243e-02\n",
      "  -4.07089742e-04  -2.52641054e-03  -6.06259210e-03   1.18626476e-02\n",
      "  -1.85882135e-02  -1.48235381e-02  -5.54456391e-03  -3.65442364e-02\n",
      "  -6.29858374e-03   1.51351728e-03   9.83537707e-04  -2.21402754e-02\n",
      "  -1.64384296e-02   7.94790012e-04  -2.86837307e-02  -1.16140451e-03\n",
      "  -1.03422216e-02  -2.23818147e-02  -2.00089446e-02  -8.50716132e-03\n",
      "   9.92432103e-03  -4.65203805e-03   1.21603479e-02  -2.88952713e-03\n",
      "  -1.32117446e-02  -1.55809351e-02  -1.67571135e-03  -1.47070116e-02\n",
      "   1.72711212e-02  -4.00015358e-02  -1.42315865e-02   1.74718214e-02\n",
      "   1.93708405e-02   2.45755776e-02  -5.01979246e-04   6.91616966e-03\n",
      "   2.91201662e-03  -3.35222022e-02  -2.34570810e-02   3.15404204e-02\n",
      "   1.68152236e-02  -1.04023527e-02   1.16189101e-02  -1.70933090e-02\n",
      "  -2.00884833e-03   1.34377878e-02  -3.89110926e-02  -2.18772835e-02\n",
      "  -3.54829265e-02   1.42741921e-02   1.42389325e-02   1.79380232e-02\n",
      "   4.37700154e-03  -9.70955228e-03  -6.84857143e-03  -2.47469787e-02\n",
      "  -8.17195601e-03   9.25933978e-03  -2.55851096e-02  -3.86009783e-02\n",
      "  -4.80816215e-02  -2.11396552e-02   1.65644339e-02  -4.53867978e-02\n",
      "  -5.33875368e-03  -1.20524659e-03  -2.02248384e-03   5.99494190e-02\n",
      "   2.65549596e-02   4.11988765e-02   5.04462297e-03   7.51025176e-02\n",
      "  -8.82361586e-03  -1.26989701e-02  -3.78657689e-02  -3.93569107e-02\n",
      "  -2.76898659e-03  -1.13268969e-02  -1.08864274e-02   3.74227323e-02\n",
      "   1.26421432e-02   2.67858754e-02  -1.96814424e-03   3.88880759e-02\n",
      "  -5.68883673e-03   7.76551454e-03   3.50981173e-02  -8.15046991e-03\n",
      "   7.26241171e-04  -9.53221014e-03   7.32343897e-03  -9.98572816e-03\n",
      "  -3.34832458e-02  -3.20010537e-02  -2.93047971e-02  -2.81319995e-03\n",
      "   1.99682497e-02   2.56551904e-02  -2.05670580e-02  -1.82897245e-02\n",
      "   2.89312661e-02  -6.17063686e-03   3.95420528e-02  -5.79039469e-02\n",
      "  -3.53981790e-02  -2.30040524e-03   3.17074001e-03   3.68795106e-02\n",
      "  -2.17325815e-02   2.02780261e-02  -5.03234732e-03   2.12950274e-02\n",
      "   3.74055732e-03  -3.33044552e-03   3.52039940e-03   1.07165500e-03\n",
      "   3.90066647e-02  -7.69410966e-03  -2.67326455e-02  -2.30268033e-02\n",
      "  -5.46331395e-02  -4.26639577e-02  -1.40267871e-02  -5.79980984e-05\n",
      "  -1.65038449e-02   4.92510223e-03  -7.15534811e-02   4.46182290e-03\n",
      "   5.72501044e-02  -4.36952098e-02  -1.07248648e-02  -5.28693391e-02\n",
      "   7.09618722e-02  -5.94553912e-02   3.09937377e-02  -6.66720172e-02\n",
      "   1.85594422e-02  -1.29867337e-02  -3.19566645e-03  -3.81929850e-02\n",
      "   2.06881187e-02  -2.23094294e-03  -1.68137428e-02   1.54090397e-02\n",
      "  -1.85180410e-03  -1.37461903e-03   4.91184873e-02   4.91417246e-02\n",
      "   8.90253847e-03   9.32208196e-02  -7.40006948e-04   6.94216894e-02\n",
      "  -9.89735676e-03  -3.09246242e-02   2.90202809e-02  -3.77051130e-02\n",
      "   2.45858025e-02   3.88288177e-02   2.25125773e-02  -4.06817933e-02\n",
      "  -4.91880858e-02   2.79341878e-02  -2.06803190e-02  -3.63916588e-02\n",
      "   3.43577212e-03   4.47558602e-02   4.26105094e-02  -8.98462168e-02\n",
      "   5.72709978e-03  -2.17159007e-02  -2.02285645e-02   1.41862985e-02\n",
      "   6.51213419e-02  -2.00848926e-02  -4.46612448e-02   4.17592441e-02\n",
      "   2.08817097e-02  -5.36703207e-02  -3.51682044e-02]\n",
      "Intercept: \n",
      " 4.29815866045\n"
     ]
    }
   ],
   "source": [
    "print('Coefficient: \\n', linear.coef_)\n",
    "print('Intercept: \\n', linear.intercept_)\n",
    "#Predict Output\n",
    "predictedlinear = linear.predict(newx_imputed)"
   ]
  },
  {
   "cell_type": "code",
   "execution_count": 21,
   "metadata": {
    "collapsed": false
   },
   "outputs": [
    {
     "data": {
      "text/plain": [
       "array([ 3.82421507,  3.18946323,  3.95937726, ...,  4.72847401,\n",
       "        3.18584449,  3.12693326])"
      ]
     },
     "execution_count": 21,
     "metadata": {},
     "output_type": "execute_result"
    }
   ],
   "source": [
    "predictedlinear"
   ]
  },
  {
   "cell_type": "code",
   "execution_count": 11,
   "metadata": {
    "collapsed": false
   },
   "outputs": [
    {
     "name": "stdout",
     "output_type": "stream",
     "text": [
      "Feature importances: \n",
      " [  8.11529706e-02   3.02296439e-02   3.04171149e-02   3.03382883e-02\n",
      "   1.68764771e-02   1.75493720e-02   1.30361417e-02   1.60300765e-02\n",
      "   1.62287550e-02   1.60074580e-02   1.74236791e-02   1.51996759e-02\n",
      "   1.53803461e-02   1.46369229e-02   1.18442865e-02   1.29827743e-02\n",
      "   1.48362658e-02   1.28550293e-02   1.30453576e-02   1.58976709e-02\n",
      "   1.18225744e-02   1.25867494e-02   1.23288077e-02   1.09633190e-02\n",
      "   1.37939114e-02   1.12285970e-02   1.11095245e-02   1.16952298e-02\n",
      "   1.14511817e-02   1.17870831e-02   1.10898242e-02   1.17667339e-02\n",
      "   1.41583431e-02   1.15268811e-02   9.19537786e-03   8.57310577e-03\n",
      "   1.03314336e-02   1.00343148e-02   1.00518366e-02   9.75201047e-03\n",
      "   9.87087783e-03   8.23817880e-03   9.46413939e-03   9.83223160e-03\n",
      "   1.01683493e-02   1.02750706e-02   1.06447860e-02   8.27776264e-03\n",
      "   8.20660291e-03   9.02929940e-03   1.18064935e-02   5.80368220e-03\n",
      "   7.06307461e-03   6.63734556e-03   5.11974657e-03   6.81729156e-03\n",
      "   5.68895645e-03   8.49153660e-03   6.34450417e-03   4.96698527e-03\n",
      "   6.81600688e-03   4.03837451e-03   6.18397175e-03   4.03682708e-03\n",
      "   3.09533672e-03   4.30605566e-03   3.13693260e-03   2.78948080e-03\n",
      "   4.10019755e-03   3.34460454e-03   3.19611468e-03   4.83353974e-03\n",
      "   4.14796270e-03   2.99369146e-03   3.46546746e-03   3.82508644e-03\n",
      "   4.41815488e-03   2.83748615e-03   2.57439726e-03   2.58227139e-03\n",
      "   2.41496950e-03   3.72488579e-03   2.35607796e-03   1.79638688e-03\n",
      "   1.66175955e-03   2.28207263e-03   2.36837674e-03   2.56029087e-03\n",
      "   2.18046985e-03   1.43954051e-03   1.48324706e-03   2.25074509e-03\n",
      "   1.96488857e-03   1.37114822e-03   2.33368336e-03   1.77204301e-03\n",
      "   2.85928309e-03   2.02986350e-03   1.76544410e-03   1.65299531e-03\n",
      "   2.74661672e-03   1.28643214e-03   2.27218649e-03   2.62555042e-03\n",
      "   1.62574654e-03   9.73630616e-04   1.93216364e-03   6.09610982e-04\n",
      "   1.64028819e-03   1.02100106e-03   1.45921439e-03   1.15804749e-03\n",
      "   9.95720900e-04   6.04403443e-04   9.36176583e-04   1.23052173e-03\n",
      "   2.05814472e-03   1.49434587e-03   2.56202796e-04   5.67409980e-04\n",
      "   1.28654605e-03   2.05849256e-03   1.14560344e-03   9.21671834e-04\n",
      "   7.80822299e-04   5.30842898e-04   5.72740969e-04   2.40270845e-03\n",
      "   8.68084142e-04   6.50471860e-04   3.72631314e-04   1.29992066e-03\n",
      "   7.38553927e-04   4.74858131e-04   3.83915964e-04   1.19805352e-03\n",
      "   5.64300872e-04   2.65675164e-04   6.53771131e-04   5.87078837e-04\n",
      "   6.32725719e-04   4.31823328e-04   1.29394792e-04   8.19088920e-05\n",
      "   1.31523413e-03   1.59421082e-04   3.04009797e-04   1.23136566e-03\n",
      "   4.38246802e-04   2.13028303e-04   6.17591338e-04   6.00395206e-04\n",
      "   1.38690722e-03   5.62330277e-06   5.93576671e-04   1.10738884e-03\n",
      "   1.56356404e-05   4.86738177e-04   1.04250155e-04   6.93568983e-04\n",
      "   8.31500744e-05   3.84527432e-04   1.05870843e-03   4.55190803e-04\n",
      "   4.15365403e-06   2.30432058e-04   4.98902139e-05   8.29108218e-04\n",
      "   2.10130026e-05   1.04763227e-04   3.34159171e-04   4.42387610e-04\n",
      "   4.24542534e-04   1.33328376e-05   1.12735376e-04   1.77213375e-06\n",
      "   6.08063936e-06   2.75041348e-04   3.74841876e-04   2.46503526e-04\n",
      "   2.14636036e-06   4.34285822e-04   7.13756456e-04   2.58458097e-06\n",
      "   3.88407627e-04   9.09604796e-05   3.41414137e-05   4.90845244e-04\n",
      "   4.37748319e-04   6.86508802e-04   5.93318082e-04   3.83524074e-06\n",
      "   1.48405153e-05   6.59372291e-06   3.07692969e-04   3.36091490e-06\n",
      "   4.25343803e-08   2.78726227e-04   2.85039913e-04   2.39636654e-10\n",
      "   1.03129810e-05   2.15750423e-05   3.82574867e-04   2.51542684e-05\n",
      "   3.99073665e-04   4.50621451e-05   5.47876430e-06   1.89898221e-05\n",
      "   4.34354437e-04   5.49704708e-07   3.19918559e-04   2.31120141e-06\n",
      "   1.72393979e-05   1.17924391e-04   9.61443982e-04   2.94020976e-04\n",
      "   1.31596692e-05   1.79900267e-04   1.18017084e-07   8.41784509e-06\n",
      "   1.82698681e-05   8.23851175e-05   1.00665941e-04   4.02231393e-06\n",
      "   4.80639959e-08   3.58401925e-06   0.00000000e+00   8.41784937e-06\n",
      "   1.61927625e-04   2.30412398e-04   1.16608309e-04   5.71555177e-05\n",
      "   3.89542933e-07   0.00000000e+00   1.03802040e-04   7.94357488e-06\n",
      "   2.94869513e-04   3.00242727e-04   3.42833606e-04   1.95016831e-05\n",
      "   1.20331563e-07   1.33655603e-03   1.31117773e-05   0.00000000e+00\n",
      "   3.21163683e-04   1.50142588e-05   1.42013972e-06   3.88606371e-05\n",
      "   7.72445414e-06   6.40039273e-05   2.82845615e-07   2.37006778e-04\n",
      "   4.84574911e-07   5.33046873e-04   5.79147319e-08   6.68483623e-04\n",
      "   7.72196425e-08   3.47549356e-04   3.93985266e-04   1.43012345e-05\n",
      "   1.21670498e-06   2.53398576e-06   1.40414649e-08   4.31010320e-07\n",
      "   0.00000000e+00   3.00536306e-07   4.97665345e-05   8.92459044e-05\n",
      "   1.54677194e-03   6.12436103e-04   6.80801140e-05   0.00000000e+00\n",
      "   3.74336850e-07   1.11532513e-04   1.42080686e-08   2.01629548e-05\n",
      "   3.28559714e-07   3.18136895e-04   4.28140300e-12   1.93674329e-07\n",
      "   0.00000000e+00   6.33007847e-06   0.00000000e+00   3.43499635e-04\n",
      "   1.37058117e-07   1.08861665e-07   1.23434859e-03   5.02764539e-04\n",
      "   6.65447321e-08   2.20092242e-04   4.03499902e-04   3.16534687e-08\n",
      "   9.59288855e-05   2.60018643e-05   1.94199169e-05   8.53018555e-06\n",
      "   2.13998967e-04   0.00000000e+00   2.14355786e-05]\n",
      "Max features: \n",
      " 299\n"
     ]
    }
   ],
   "source": [
    "#decision tree\n",
    "from sklearn import tree\n",
    "dsctree = tree.DecisionTreeRegressor()\n",
    "dsctree.fit(x_imputed, trainingY)\n",
    "dsctree.score(x_imputed, trainingY)\n",
    "print('Feature importances: \\n', dsctree.feature_importances_ )\n",
    "print('Max features: \\n', dsctree.max_features_  )\n",
    "\n",
    "#Predict Output\n",
    "predictedtree = dsctree.predict(newx_imputed)"
   ]
  },
  {
   "cell_type": "code",
   "execution_count": 24,
   "metadata": {
    "collapsed": false
   },
   "outputs": [
    {
     "data": {
      "text/plain": [
       "array([-7.64849, -7.64849,  8.86771, ...,  8.86771,  7.32867, -6.3357 ])"
      ]
     },
     "execution_count": 24,
     "metadata": {},
     "output_type": "execute_result"
    }
   ],
   "source": [
    "predictedtree"
   ]
  },
  {
   "cell_type": "code",
   "execution_count": 25,
   "metadata": {
    "collapsed": false
   },
   "outputs": [
    {
     "data": {
      "text/plain": [
       "((9999,), (39998,))"
      ]
     },
     "execution_count": 25,
     "metadata": {},
     "output_type": "execute_result"
    }
   ],
   "source": [
    "import matplotlib.pyplot as plt\n",
    "trainX = np.array(training.ROWID)\n",
    "trainY = np.array(trainingY.T)\n",
    "predictX = np.array(prediction.ROWID)\n",
    "predictY = np.array(predictedtree.T)\n",
    "predictX.shape, predictY.shape"
   ]
  },
  {
   "cell_type": "code",
   "execution_count": 18,
   "metadata": {
    "collapsed": false
   },
   "outputs": [
    {
     "ename": "ValueError",
     "evalue": "x and y must have same first dimension",
     "output_type": "error",
     "traceback": [
      "\u001b[1;31m---------------------------------------------------------------------------\u001b[0m",
      "\u001b[1;31mValueError\u001b[0m                                Traceback (most recent call last)",
      "\u001b[1;32m<ipython-input-18-9782140c7a3d>\u001b[0m in \u001b[0;36m<module>\u001b[1;34m()\u001b[0m\n\u001b[0;32m      2\u001b[0m \u001b[1;31m#plt.scatter(trainingY[:, 0], trainingY[:, 1], c=\"k\", label=\"data\")\u001b[0m\u001b[1;33m\u001b[0m\u001b[1;33m\u001b[0m\u001b[0m\n\u001b[0;32m      3\u001b[0m \u001b[0mplt\u001b[0m\u001b[1;33m.\u001b[0m\u001b[0mplot\u001b[0m\u001b[1;33m(\u001b[0m\u001b[0mtrainX\u001b[0m\u001b[1;33m,\u001b[0m \u001b[0mtrainY\u001b[0m\u001b[1;33m,\u001b[0m \u001b[0mc\u001b[0m\u001b[1;33m=\u001b[0m\u001b[1;34m\"k\"\u001b[0m\u001b[1;33m,\u001b[0m \u001b[0mlabel\u001b[0m\u001b[1;33m=\u001b[0m\u001b[1;34m\"data\"\u001b[0m\u001b[1;33m)\u001b[0m\u001b[1;33m\u001b[0m\u001b[0m\n\u001b[1;32m----> 4\u001b[1;33m \u001b[0mplt\u001b[0m\u001b[1;33m.\u001b[0m\u001b[0mplot\u001b[0m\u001b[1;33m(\u001b[0m\u001b[0mpredictX\u001b[0m\u001b[1;33m,\u001b[0m \u001b[0mpredictY\u001b[0m\u001b[1;33m,\u001b[0m \u001b[0mc\u001b[0m\u001b[1;33m=\u001b[0m\u001b[1;34m\"g\"\u001b[0m\u001b[1;33m,\u001b[0m \u001b[0mlabel\u001b[0m\u001b[1;33m=\u001b[0m\u001b[1;34m\"Prediction\"\u001b[0m\u001b[1;33m)\u001b[0m\u001b[1;33m\u001b[0m\u001b[0m\n\u001b[0m\u001b[0;32m      5\u001b[0m \u001b[1;31m#plt.scatter(y_2[:, 0], y_2[:, 1], c=\"r\", label=\"max_depth=5\")\u001b[0m\u001b[1;33m\u001b[0m\u001b[1;33m\u001b[0m\u001b[0m\n\u001b[0;32m      6\u001b[0m \u001b[1;31m#plt.scatter(y_3[:, 0], y_3[:, 1], c=\"b\", label=\"max_depth=8\")\u001b[0m\u001b[1;33m\u001b[0m\u001b[1;33m\u001b[0m\u001b[0m\n",
      "\u001b[1;32mC:\\Users\\giedre\\Anaconda3\\lib\\site-packages\\matplotlib\\pyplot.py\u001b[0m in \u001b[0;36mplot\u001b[1;34m(*args, **kwargs)\u001b[0m\n\u001b[0;32m   3152\u001b[0m         \u001b[0max\u001b[0m\u001b[1;33m.\u001b[0m\u001b[0mhold\u001b[0m\u001b[1;33m(\u001b[0m\u001b[0mhold\u001b[0m\u001b[1;33m)\u001b[0m\u001b[1;33m\u001b[0m\u001b[0m\n\u001b[0;32m   3153\u001b[0m     \u001b[1;32mtry\u001b[0m\u001b[1;33m:\u001b[0m\u001b[1;33m\u001b[0m\u001b[0m\n\u001b[1;32m-> 3154\u001b[1;33m         \u001b[0mret\u001b[0m \u001b[1;33m=\u001b[0m \u001b[0max\u001b[0m\u001b[1;33m.\u001b[0m\u001b[0mplot\u001b[0m\u001b[1;33m(\u001b[0m\u001b[1;33m*\u001b[0m\u001b[0margs\u001b[0m\u001b[1;33m,\u001b[0m \u001b[1;33m**\u001b[0m\u001b[0mkwargs\u001b[0m\u001b[1;33m)\u001b[0m\u001b[1;33m\u001b[0m\u001b[0m\n\u001b[0m\u001b[0;32m   3155\u001b[0m     \u001b[1;32mfinally\u001b[0m\u001b[1;33m:\u001b[0m\u001b[1;33m\u001b[0m\u001b[0m\n\u001b[0;32m   3156\u001b[0m         \u001b[0max\u001b[0m\u001b[1;33m.\u001b[0m\u001b[0mhold\u001b[0m\u001b[1;33m(\u001b[0m\u001b[0mwashold\u001b[0m\u001b[1;33m)\u001b[0m\u001b[1;33m\u001b[0m\u001b[0m\n",
      "\u001b[1;32mC:\\Users\\giedre\\Anaconda3\\lib\\site-packages\\matplotlib\\__init__.py\u001b[0m in \u001b[0;36minner\u001b[1;34m(ax, *args, **kwargs)\u001b[0m\n\u001b[0;32m   1809\u001b[0m                     warnings.warn(msg % (label_namer, func.__name__),\n\u001b[0;32m   1810\u001b[0m                                   RuntimeWarning, stacklevel=2)\n\u001b[1;32m-> 1811\u001b[1;33m             \u001b[1;32mreturn\u001b[0m \u001b[0mfunc\u001b[0m\u001b[1;33m(\u001b[0m\u001b[0max\u001b[0m\u001b[1;33m,\u001b[0m \u001b[1;33m*\u001b[0m\u001b[0margs\u001b[0m\u001b[1;33m,\u001b[0m \u001b[1;33m**\u001b[0m\u001b[0mkwargs\u001b[0m\u001b[1;33m)\u001b[0m\u001b[1;33m\u001b[0m\u001b[0m\n\u001b[0m\u001b[0;32m   1812\u001b[0m         \u001b[0mpre_doc\u001b[0m \u001b[1;33m=\u001b[0m \u001b[0minner\u001b[0m\u001b[1;33m.\u001b[0m\u001b[0m__doc__\u001b[0m\u001b[1;33m\u001b[0m\u001b[0m\n\u001b[0;32m   1813\u001b[0m         \u001b[1;32mif\u001b[0m \u001b[0mpre_doc\u001b[0m \u001b[1;32mis\u001b[0m \u001b[1;32mNone\u001b[0m\u001b[1;33m:\u001b[0m\u001b[1;33m\u001b[0m\u001b[0m\n",
      "\u001b[1;32mC:\\Users\\giedre\\Anaconda3\\lib\\site-packages\\matplotlib\\axes\\_axes.py\u001b[0m in \u001b[0;36mplot\u001b[1;34m(self, *args, **kwargs)\u001b[0m\n\u001b[0;32m   1422\u001b[0m             \u001b[0mkwargs\u001b[0m\u001b[1;33m[\u001b[0m\u001b[1;34m'color'\u001b[0m\u001b[1;33m]\u001b[0m \u001b[1;33m=\u001b[0m \u001b[0mc\u001b[0m\u001b[1;33m\u001b[0m\u001b[0m\n\u001b[0;32m   1423\u001b[0m \u001b[1;33m\u001b[0m\u001b[0m\n\u001b[1;32m-> 1424\u001b[1;33m         \u001b[1;32mfor\u001b[0m \u001b[0mline\u001b[0m \u001b[1;32min\u001b[0m \u001b[0mself\u001b[0m\u001b[1;33m.\u001b[0m\u001b[0m_get_lines\u001b[0m\u001b[1;33m(\u001b[0m\u001b[1;33m*\u001b[0m\u001b[0margs\u001b[0m\u001b[1;33m,\u001b[0m \u001b[1;33m**\u001b[0m\u001b[0mkwargs\u001b[0m\u001b[1;33m)\u001b[0m\u001b[1;33m:\u001b[0m\u001b[1;33m\u001b[0m\u001b[0m\n\u001b[0m\u001b[0;32m   1425\u001b[0m             \u001b[0mself\u001b[0m\u001b[1;33m.\u001b[0m\u001b[0madd_line\u001b[0m\u001b[1;33m(\u001b[0m\u001b[0mline\u001b[0m\u001b[1;33m)\u001b[0m\u001b[1;33m\u001b[0m\u001b[0m\n\u001b[0;32m   1426\u001b[0m             \u001b[0mlines\u001b[0m\u001b[1;33m.\u001b[0m\u001b[0mappend\u001b[0m\u001b[1;33m(\u001b[0m\u001b[0mline\u001b[0m\u001b[1;33m)\u001b[0m\u001b[1;33m\u001b[0m\u001b[0m\n",
      "\u001b[1;32mC:\\Users\\giedre\\Anaconda3\\lib\\site-packages\\matplotlib\\axes\\_base.py\u001b[0m in \u001b[0;36m_grab_next_args\u001b[1;34m(self, *args, **kwargs)\u001b[0m\n\u001b[0;32m    384\u001b[0m                 \u001b[1;32mreturn\u001b[0m\u001b[1;33m\u001b[0m\u001b[0m\n\u001b[0;32m    385\u001b[0m             \u001b[1;32mif\u001b[0m \u001b[0mlen\u001b[0m\u001b[1;33m(\u001b[0m\u001b[0mremaining\u001b[0m\u001b[1;33m)\u001b[0m \u001b[1;33m<=\u001b[0m \u001b[1;36m3\u001b[0m\u001b[1;33m:\u001b[0m\u001b[1;33m\u001b[0m\u001b[0m\n\u001b[1;32m--> 386\u001b[1;33m                 \u001b[1;32mfor\u001b[0m \u001b[0mseg\u001b[0m \u001b[1;32min\u001b[0m \u001b[0mself\u001b[0m\u001b[1;33m.\u001b[0m\u001b[0m_plot_args\u001b[0m\u001b[1;33m(\u001b[0m\u001b[0mremaining\u001b[0m\u001b[1;33m,\u001b[0m \u001b[0mkwargs\u001b[0m\u001b[1;33m)\u001b[0m\u001b[1;33m:\u001b[0m\u001b[1;33m\u001b[0m\u001b[0m\n\u001b[0m\u001b[0;32m    387\u001b[0m                     \u001b[1;32myield\u001b[0m \u001b[0mseg\u001b[0m\u001b[1;33m\u001b[0m\u001b[0m\n\u001b[0;32m    388\u001b[0m                 \u001b[1;32mreturn\u001b[0m\u001b[1;33m\u001b[0m\u001b[0m\n",
      "\u001b[1;32mC:\\Users\\giedre\\Anaconda3\\lib\\site-packages\\matplotlib\\axes\\_base.py\u001b[0m in \u001b[0;36m_plot_args\u001b[1;34m(self, tup, kwargs)\u001b[0m\n\u001b[0;32m    362\u001b[0m             \u001b[0mx\u001b[0m\u001b[1;33m,\u001b[0m \u001b[0my\u001b[0m \u001b[1;33m=\u001b[0m \u001b[0mindex_of\u001b[0m\u001b[1;33m(\u001b[0m\u001b[0mtup\u001b[0m\u001b[1;33m[\u001b[0m\u001b[1;33m-\u001b[0m\u001b[1;36m1\u001b[0m\u001b[1;33m]\u001b[0m\u001b[1;33m)\u001b[0m\u001b[1;33m\u001b[0m\u001b[0m\n\u001b[0;32m    363\u001b[0m \u001b[1;33m\u001b[0m\u001b[0m\n\u001b[1;32m--> 364\u001b[1;33m         \u001b[0mx\u001b[0m\u001b[1;33m,\u001b[0m \u001b[0my\u001b[0m \u001b[1;33m=\u001b[0m \u001b[0mself\u001b[0m\u001b[1;33m.\u001b[0m\u001b[0m_xy_from_xy\u001b[0m\u001b[1;33m(\u001b[0m\u001b[0mx\u001b[0m\u001b[1;33m,\u001b[0m \u001b[0my\u001b[0m\u001b[1;33m)\u001b[0m\u001b[1;33m\u001b[0m\u001b[0m\n\u001b[0m\u001b[0;32m    365\u001b[0m \u001b[1;33m\u001b[0m\u001b[0m\n\u001b[0;32m    366\u001b[0m         \u001b[1;32mif\u001b[0m \u001b[0mself\u001b[0m\u001b[1;33m.\u001b[0m\u001b[0mcommand\u001b[0m \u001b[1;33m==\u001b[0m \u001b[1;34m'plot'\u001b[0m\u001b[1;33m:\u001b[0m\u001b[1;33m\u001b[0m\u001b[0m\n",
      "\u001b[1;32mC:\\Users\\giedre\\Anaconda3\\lib\\site-packages\\matplotlib\\axes\\_base.py\u001b[0m in \u001b[0;36m_xy_from_xy\u001b[1;34m(self, x, y)\u001b[0m\n\u001b[0;32m    221\u001b[0m         \u001b[0my\u001b[0m \u001b[1;33m=\u001b[0m \u001b[0m_check_1d\u001b[0m\u001b[1;33m(\u001b[0m\u001b[0my\u001b[0m\u001b[1;33m)\u001b[0m\u001b[1;33m\u001b[0m\u001b[0m\n\u001b[0;32m    222\u001b[0m         \u001b[1;32mif\u001b[0m \u001b[0mx\u001b[0m\u001b[1;33m.\u001b[0m\u001b[0mshape\u001b[0m\u001b[1;33m[\u001b[0m\u001b[1;36m0\u001b[0m\u001b[1;33m]\u001b[0m \u001b[1;33m!=\u001b[0m \u001b[0my\u001b[0m\u001b[1;33m.\u001b[0m\u001b[0mshape\u001b[0m\u001b[1;33m[\u001b[0m\u001b[1;36m0\u001b[0m\u001b[1;33m]\u001b[0m\u001b[1;33m:\u001b[0m\u001b[1;33m\u001b[0m\u001b[0m\n\u001b[1;32m--> 223\u001b[1;33m             \u001b[1;32mraise\u001b[0m \u001b[0mValueError\u001b[0m\u001b[1;33m(\u001b[0m\u001b[1;34m\"x and y must have same first dimension\"\u001b[0m\u001b[1;33m)\u001b[0m\u001b[1;33m\u001b[0m\u001b[0m\n\u001b[0m\u001b[0;32m    224\u001b[0m         \u001b[1;32mif\u001b[0m \u001b[0mx\u001b[0m\u001b[1;33m.\u001b[0m\u001b[0mndim\u001b[0m \u001b[1;33m>\u001b[0m \u001b[1;36m2\u001b[0m \u001b[1;32mor\u001b[0m \u001b[0my\u001b[0m\u001b[1;33m.\u001b[0m\u001b[0mndim\u001b[0m \u001b[1;33m>\u001b[0m \u001b[1;36m2\u001b[0m\u001b[1;33m:\u001b[0m\u001b[1;33m\u001b[0m\u001b[0m\n\u001b[0;32m    225\u001b[0m             \u001b[1;32mraise\u001b[0m \u001b[0mValueError\u001b[0m\u001b[1;33m(\u001b[0m\u001b[1;34m\"x and y can be no greater than 2-D\"\u001b[0m\u001b[1;33m)\u001b[0m\u001b[1;33m\u001b[0m\u001b[0m\n",
      "\u001b[1;31mValueError\u001b[0m: x and y must have same first dimension"
     ]
    }
   ],
   "source": [
    "plt.figure()\n",
    "#plt.scatter(trainingY[:, 0], trainingY[:, 1], c=\"k\", label=\"data\")\n",
    "plt.plot(trainX, trainY, c=\"k\", label=\"data\")\n",
    "plt.plot(predictX, predictY, c=\"g\", label=\"Prediction\")\n",
    "#plt.scatter(y_2[:, 0], y_2[:, 1], c=\"r\", label=\"max_depth=5\")\n",
    "#plt.scatter(y_3[:, 0], y_3[:, 1], c=\"b\", label=\"max_depth=8\")\n",
    "#plt.xlim([-6, 6])\n",
    "#plt.ylim([-6, 6])\n",
    "plt.xlabel(\"data\")\n",
    "plt.ylabel(\"target\")\n",
    "plt.title(\"Multi-output Decision Tree Regression\")\n",
    "plt.legend()\n",
    "plt.show()"
   ]
  },
  {
   "cell_type": "code",
   "execution_count": 15,
   "metadata": {
    "collapsed": false
   },
   "outputs": [
    {
     "data": {
      "text/plain": [
       "(100, 2)"
      ]
     },
     "execution_count": 15,
     "metadata": {},
     "output_type": "execute_result"
    }
   ],
   "source": [
    "import numpy as np\n",
    "# Create a random dataset\n",
    "rng = np.random.RandomState(1)\n",
    "X = np.sort(200 * rng.rand(100, 1) - 100, axis=0)\n",
    "y = np.array([np.pi * np.sin(X).ravel(), np.pi * np.cos(X).ravel()]).T\n",
    "y[::5, :] += (0.5 - rng.rand(20, 2))\n",
    "y.shape"
   ]
  },
  {
   "cell_type": "code",
   "execution_count": null,
   "metadata": {
    "collapsed": true
   },
   "outputs": [],
   "source": []
  }
 ],
 "metadata": {
  "anaconda-cloud": {},
  "kernelspec": {
   "display_name": "Python [Root]",
   "language": "python",
   "name": "Python [Root]"
  },
  "language_info": {
   "codemirror_mode": {
    "name": "ipython",
    "version": 3
   },
   "file_extension": ".py",
   "mimetype": "text/x-python",
   "name": "python",
   "nbconvert_exporter": "python",
   "pygments_lexer": "ipython3",
   "version": "3.5.2"
  }
 },
 "nbformat": 4,
 "nbformat_minor": 0
}
